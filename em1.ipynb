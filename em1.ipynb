{
 "cells": [
  {
   "cell_type": "code",
   "execution_count": null,
   "metadata": {},
   "outputs": [],
   "source": [
    "import pandas as pd\n",
    "import numpy as np\n",
    "import matplotlib.pyplot as plt\n",
    "import scipy.stats as sts\n",
    "import math"
   ]
  },
  {
   "cell_type": "code",
   "execution_count": null,
   "metadata": {},
   "outputs": [],
   "source": [
    "df=pd.read_csv('RI.IMOEX_171001_181001.csv', sep=';')"
   ]
  },
  {
   "cell_type": "code",
   "execution_count": null,
   "metadata": {},
   "outputs": [],
   "source": [
    "def strtofloat(s):\n",
    "    s = s.replace(\",\",\"\")\n",
    "    return float(s)"
   ]
  },
  {
   "cell_type": "code",
   "execution_count": null,
   "metadata": {},
   "outputs": [],
   "source": [
    "data = np.array([])\n",
    "prevopen = 0\n",
    "for index,row in df.iterrows():\n",
    "    if prevopen != 0:\n",
    "        data =np.append(data, strtofloat(row[4])-prevopen)\n",
    "    prevopen = strtofloat(row[4])\n",
    "data = np.append(data,strtofloat(df.iloc[-1][7])-prevopen)"
   ]
  },
  {
   "cell_type": "code",
   "execution_count": null,
   "metadata": {},
   "outputs": [],
   "source": [
    "pis = np.array([0.5, 0.5])\n",
    "mus = np.array([0.,0.])\n",
    "sigmas = np.array([1,6])\n",
    "\n",
    "k = 2\n",
    "n = len(data)\n",
    "tol = 0.01\n",
    "p = 1"
   ]
  },
  {
   "cell_type": "code",
   "execution_count": null,
   "metadata": {},
   "outputs": [],
   "source": [
    "sts.norm(0, 5).pdf(115)"
   ]
  },
  {
   "cell_type": "code",
   "execution_count": null,
   "metadata": {},
   "outputs": [],
   "source": [
    "ws = np.zeros((k, n))\n",
    "ws\n",
    "for j in range(len(mus)):\n",
    "        for i in range(n):\n",
    "            ws[j, i] = pis[j] * sts.norm(mus[j], sigmas[j]).pdf(data[i])\n",
    "            if (ws[j,i] == 0):\n",
    "                print 'pnt {0} val {1} mu {2} sig {3}\\n'.format(data[i], sts.norm(mus[j], sigmas[j]).pdf(data[i]), mus[j], sigmas[j])"
   ]
  },
  {
   "cell_type": "code",
   "execution_count": null,
   "metadata": {},
   "outputs": [],
   "source": [
    "np.set_printoptions(threshold=np.inf)\n",
    "ws[1,:]"
   ]
  },
  {
   "cell_type": "code",
   "execution_count": null,
   "metadata": {},
   "outputs": [],
   "source": [
    "sts.norm(mus[0], sigmas[0]).pdf(data[1])"
   ]
  },
  {
   "cell_type": "code",
   "execution_count": 54,
   "metadata": {},
   "outputs": [
    {
     "name": "stdout",
     "output_type": "stream",
     "text": [
      "EM iteration 0\n",
      "pis 0.288425880411, 0.711574119589\n",
      "\n",
      "mus 0.0392811142232, 0.228118270228\n",
      "\n",
      "sigmas 1.65853434402, 66.5886478172\n",
      "\n",
      "EM iteration 1\n",
      "pis 0.526721907966, 0.473278092034\n",
      "\n",
      "mus 0.120803403434, 0.23246997898\n",
      "\n",
      "sigmas 4.94523082234, 95.6320864845\n",
      "\n",
      "EM iteration 2\n",
      "pis 0.876452389632, 0.123547610368\n",
      "\n",
      "mus 0.210783336063, -0.0897533452982\n",
      "\n",
      "sigmas 22.6832127572, 226.454439407\n",
      "\n",
      "EM iteration 3\n",
      "pis 0.984721060779, 0.0152789392214\n",
      "\n",
      "mus 0.244644997477, -4.40176724327\n",
      "\n",
      "sigmas 40.253177508, 517.409629296\n",
      "\n",
      "EM iteration 4\n",
      "pis 0.998748118847, 0.00125188115324\n",
      "\n",
      "mus 0.17711116081, -2.58546222599\n",
      "\n",
      "sigmas 47.4720044087, 356.522687426\n",
      "\n",
      "EM iteration 5\n",
      "pis 0.999830230051, 0.000169769949088\n",
      "\n",
      "mus 0.17380702877, -0.734961090888\n",
      "\n",
      "sigmas 47.8506596753, 151.764439922\n",
      "\n",
      "EM iteration 6\n",
      "pis 0.999945695236, 5.43047636648e-05\n",
      "\n",
      "mus 0.173689867843, -0.509870609266\n",
      "\n",
      "sigmas 47.8641586414, 126.260239503\n",
      "\n",
      "EM iteration 7\n",
      "pis 0.999979141079, 2.08589206145e-05\n",
      "\n",
      "mus 0.173665217166, -0.424156395204\n",
      "\n",
      "sigmas 47.8670016023, 116.530086028\n",
      "\n",
      "EM iteration 8\n",
      "pis 0.999991323995, 8.67600509337e-06\n",
      "\n",
      "mus 0.17365755426, -0.380400070342\n",
      "\n",
      "sigmas 47.8678860534, 111.558271817\n",
      "\n",
      "EM iteration 9\n"
     ]
    }
   ],
   "source": [
    "#ем алг\n",
    "ll_old = 0\n",
    "for i in range(10):\n",
    "\tprint 'EM iteration {0}'.format(i)\n",
    "\tll_new = 0\n",
    "    #E step\n",
    "\tws = np.zeros((k, n))\n",
    "\tfor j in range(len(mus)):\n",
    "\t\tfor i in range(n):\n",
    "\t\t\tws[j, i] = pis[j] * sts.norm(mus[j], sigmas[j]).pdf(data[i])\n",
    "\tws /= ws.sum(0)\n",
    "\n",
    "    # M-step\n",
    "    pis = np.zeros(k)\n",
    "    for j in range(len(mus)):\n",
    "        for i in range(n):\n",
    "            pis[j] += ws[j, i]\n",
    "    pis /= n\n",
    "\n",
    "\tmus = np.zeros(k)\n",
    "\tfor j in range(k):\n",
    "\t\tfor i in range(n):\n",
    "\t\t\tmus[j] += ws[j, i] * data[i]\n",
    "\t\tmus[j] /= ws[j, :].sum()\n",
    "\n",
    "\tsigmas = np.zeros(k)\n",
    "\tfor j in range(k):\n",
    "\t\tfor i in range(n):\n",
    "\t\t\tsigmas[j] += ws[j, i] * ((data[i]- mus[j])**2)\n",
    "\t\tsigmas[j] /= ws[j,:].sum()\n",
    "\n",
    "    # update complete log likelihoood\n",
    "\tll_new = 0.0\n",
    "\tfor i in range(n):\n",
    "\t\ts = 0\n",
    "\t\tfor j in range(k):\n",
    "\t\t\ts += pis[j] * sts.norm(mus[j], sigmas[j]).pdf(data[i])\n",
    "\t\tll_new += np.log(s)\n",
    "\n",
    "\tif np.abs(ll_new - ll_old) < tol:\n",
    "\t\tbreak\n",
    "\tll_old = ll_new\n",
    "\tprint 'pis {0}, {1}\\n'.format(pis[0], pis[1])\n",
    "\tprint 'mus {0}, {1}\\n'.format(mus[0], mus[1])\n",
    "\tprint 'sigmas {0}, {1}\\n'.format(sigmas[0], sigmas[1])"
   ]
  },
  {
   "cell_type": "code",
   "execution_count": null,
   "metadata": {},
   "outputs": [],
   "source": []
  }
 ],
 "metadata": {
  "kernelspec": {
   "display_name": "Python 2",
   "language": "python",
   "name": "python2"
  },
  "language_info": {
   "codemirror_mode": {
    "name": "ipython",
    "version": 2
   },
   "file_extension": ".py",
   "mimetype": "text/x-python",
   "name": "python",
   "nbconvert_exporter": "python",
   "pygments_lexer": "ipython2",
   "version": "2.7.16"
  }
 },
 "nbformat": 4,
 "nbformat_minor": 2
}
